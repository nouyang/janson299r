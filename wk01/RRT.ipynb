{
 "cells": [
  {
   "cell_type": "code",
   "execution_count": null,
   "metadata": {},
   "outputs": [],
   "source": [
    "print(\"hello world!\")\n",
    "\n",
    "workspace()\n",
    "using PyCall\n",
    "using PyPlot\n",
    "\n",
    "x = linspace(0,2*pi,1000); y = sin(3*x + 4*cos(2*x));\n",
    "plot(x, y, color=\"red\", linewidth=2.0, linestyle=\"--\")\n",
    "title(\"A sinusoidally modulated sinusoid\")\n",
    "print(\"Hit <enter> to continue\")\n",
    "readline()\n",
    "\n",
    "#@pyimport matplotlib.pyplot as plt\n",
    "\n",
    "fig1 = gcf()\n",
    "\n",
    "#ax1 = fig1[:add_subplot](111, aspect=\"equal\")\n",
    "#c = patch.Circle([0.5,0.5],0.4,fc=\"blue\",ec=\"red\",linewidth=.5,zorder=0)\n",
    "#ax1[:add_patch](c)\n",
    "#show(fig1);\n",
    "\n",
    "#using PyPlot\n",
    "#using PyCall\n",
    "#@pyimport matplotlib.patches as patch\n",
    "\n"
   ]
  },
  {
   "cell_type": "markdown",
   "metadata": {},
   "source": [
    " http://coecsl.ece.illinois.edu/ge423/spring13/RickRekoskeAvoid/rrt.html\n",
    "\n",
    "We'll divide the code into four parts:\n",
    "- Draw the course and tHE robot\n",
    "- Set start and goal locations\n",
    "- Parameters\n",
    "- Plan the path (rrt)\n",
    "- Check collisions of the edges\n",
    "\n",
    "Step 2: \n",
    "Benchmark and collect data\n",
    "Plot data\n"
   ]
  },
  {
   "cell_type": "markdown",
   "metadata": {},
   "source": [
    "Pseudocode\n",
    "\n",
    "$$\n",
    "\\\\mathrm{sum}(a) = \\\\sum_{i=1}^n a_i.\n",
    "$$\n"
   ]
  },
  {
   "cell_type": "markdown",
   "metadata": {},
   "source": [
    "## Pseudocode\n",
    "\n",
    "T = RRT()\n",
    "\n",
    "    RRT(X_init, K, Δt)\n",
    "    T.init(X_init) \n",
    "    for k = 1 to K do\n",
    "        x_rand = random_state()\n",
    "        x_near = nearest_neighboar(x_rand, T)\n",
    "        u = select_input(x_rand, x_near)\n",
    "        x_new = new_state(x_near, u, Δt)\n",
    "        T.add_vertex(x_new)\n",
    "        T.add_edge(x_near, x_new, u)\n",
    "     return T\n",
    "    \n",
    "    \n",
    "$X_{init}$\n"
   ]
  },
  {
   "cell_type": "markdown",
   "metadata": {},
   "source": [
    "http://cs.brown.edu/courses/cs148/documents/asgn3_planning/btcohen/index.html\n"
   ]
  },
  {
   "cell_type": "code",
   "execution_count": 107,
   "metadata": {
    "collapsed": true
   },
   "outputs": [],
   "source": [
    "workspace()"
   ]
  },
  {
   "cell_type": "code",
   "execution_count": 68,
   "metadata": {},
   "outputs": [
    {
     "name": "stdout",
     "output_type": "stream",
     "text": [
      "Node(0, 10, (1, 2))\n",
      " Type Node"
     ]
    },
    {
     "data": {
      "text/plain": [
       "AddNode (generic function with 1 method)"
      ]
     },
     "execution_count": 68,
     "metadata": {},
     "output_type": "execute_result"
    }
   ],
   "source": [
    "struct Room #corners of the room\n",
    "    x1::Int\n",
    "    y1::Int #bottom left corner?\n",
    "    x2::Int\n",
    "    y2::Int\n",
    "end\n",
    "\n",
    "struct Node\n",
    "   id::Int\n",
    "   iPrev::Int #parent\n",
    "   state::Tuple{Int,Int}\n",
    "end\n",
    "\n",
    "struct Edge\n",
    "    startnode::Int\n",
    "    endnode::Int\n",
    "end\n",
    "\n",
    "struct rrt\n",
    "    nodeslist::Array{Node}\n",
    "    edgeslist::Array{Edge}\n",
    "end\n",
    "\n",
    "struct obstacle\n",
    "    \n",
    "end\n",
    "\n",
    "struct robot\n",
    "    \n",
    "end\n",
    "        \n",
    "foo = Node(0,10,(1,2))\n",
    "print(foo, \"\\n Type \", typeof(foo))\n",
    "\n",
    "function inCollisionObstacle(rob,obstacle)\n",
    "end\n",
    "\n",
    "\n",
    "function planPath(start, goal, ballradius, maxiters)\n",
    "end\n",
    "\n",
    "function AddNode(rrt, id, iPrev)\n",
    "end"
   ]
  },
  {
   "cell_type": "code",
   "execution_count": 1,
   "metadata": {
    "collapsed": true
   },
   "outputs": [],
   "source": [
    "   \n",
    "function collides(newPoint)\n",
    "False\n",
    "end\n",
    "\n",
    "function collides(Node)\n",
    "    \n",
    "function distance()\n",
    "end\n",
    "    \n",
    "function nn() #nearest neighbors\n",
    "end\n",
    "\n",
    "type Obstacle\n",
    "        x\n",
    "        y\n",
    "end\n",
    "    room = Room(0,0,10,10)\n",
    "\n"
   ]
  },
  {
   "cell_type": "code",
   "execution_count": 112,
   "metadata": {},
   "outputs": [
    {
     "name": "stderr",
     "output_type": "stream",
     "text": [
      "\u001b[1m\u001b[33mWARNING: \u001b[39m\u001b[22m\u001b[33mcos{T <: Number}(x::AbstractArray{T}) is deprecated, use cos.(x) instead.\u001b[39m\n",
      "Stacktrace:\n",
      " [1] \u001b[1mdepwarn\u001b[22m\u001b[22m\u001b[1m(\u001b[22m\u001b[22m::String, ::Symbol\u001b[1m)\u001b[22m\u001b[22m at \u001b[1m./deprecated.jl:70\u001b[22m\u001b[22m\n",
      " [2] \u001b[1mcos\u001b[22m\u001b[22m\u001b[1m(\u001b[22m\u001b[22m::StepRangeLen{Float64,Base.TwicePrecision{Float64},Base.TwicePrecision{Float64}}\u001b[1m)\u001b[22m\u001b[22m at \u001b[1m./deprecated.jl:57\u001b[22m\u001b[22m\n",
      " [3] \u001b[1minclude_string\u001b[22m\u001b[22m\u001b[1m(\u001b[22m\u001b[22m::String, ::String\u001b[1m)\u001b[22m\u001b[22m at \u001b[1m./loading.jl:515\u001b[22m\u001b[22m\n",
      " [4] \u001b[1minclude_string\u001b[22m\u001b[22m\u001b[1m(\u001b[22m\u001b[22m::Module, ::String, ::String\u001b[1m)\u001b[22m\u001b[22m at \u001b[1m/home/nrw/.julia/v0.6/Compat/src/Compat.jl:464\u001b[22m\u001b[22m\n",
      " [5] \u001b[1mexecute_request\u001b[22m\u001b[22m\u001b[1m(\u001b[22m\u001b[22m::LastMain.LastMain.LastMain.LastMain.LastMain.LastMain.LastMain.ZMQ.Socket, ::LastMain.LastMain.LastMain.LastMain.LastMain.LastMain.LastMain.IJulia.Msg\u001b[1m)\u001b[22m\u001b[22m at \u001b[1m/home/nrw/.julia/v0.6/IJulia/src/execute_request.jl:154\u001b[22m\u001b[22m\n",
      " [6] \u001b[1meventloop\u001b[22m\u001b[22m\u001b[1m(\u001b[22m\u001b[22m::LastMain.LastMain.LastMain.LastMain.LastMain.LastMain.LastMain.ZMQ.Socket\u001b[1m)\u001b[22m\u001b[22m at \u001b[1m/home/nrw/.julia/v0.6/IJulia/src/eventloop.jl:8\u001b[22m\u001b[22m\n",
      " [7] \u001b[1m(::LastMain.LastMain.LastMain.LastMain.LastMain.LastMain.LastMain.IJulia.##14#17)\u001b[22m\u001b[22m\u001b[1m(\u001b[22m\u001b[22m\u001b[1m)\u001b[22m\u001b[22m at \u001b[1m./task.jl:335\u001b[22m\u001b[22m\n",
      "while loading In[112], in expression starting on line 10\n"
     ]
    }
   ],
   "source": [
    "\n"
   ]
  },
  {
   "cell_type": "code",
   "execution_count": 113,
   "metadata": {},
   "outputs": [
    {
     "ename": "LoadError",
     "evalue": "\u001b[91msyntax: invalid character literal\u001b[39m",
     "output_type": "error",
     "traceback": [
      "\u001b[91msyntax: invalid character literal\u001b[39m",
      "",
      "Stacktrace:",
      " [1] \u001b[1minclude_string\u001b[22m\u001b[22m\u001b[1m(\u001b[22m\u001b[22m::String, ::String\u001b[1m)\u001b[22m\u001b[22m at \u001b[1m./loading.jl:515\u001b[22m\u001b[22m"
     ]
    }
   ],
   "source": [
    "function main()\n",
    "    #dostuff\n",
    "    # Draw the walls\n",
    "    # Apply circles to represent the obstacles\n",
    "    # Set location of start and end goals\n",
    "    ## ball radius, etc.\n",
    "    ## safety margin around the ball, threshold for reaching end state,\n",
    "    ## max # of itereations\n",
    "    room = Room(0,0,10,10)\n",
    "    \n",
    "    p_start = [0;11];\n",
    "    p_goal = [0;-1];\n",
    "\n",
    "    rob.ballradius = 0.5;\n",
    "    rob.p = p_start;\n",
    "\n",
    "    \n",
    "    # Draw the start and the goal, with circles too!\n",
    "    \n",
    "    circle(rob.p(1,1),rob.p(2,1),rob.ballradius,'g');\n",
    "    circle(p_goal(1,1),p_goal(2,1),rob.ballradius,'r');\n",
    "\n",
    "    # Plan path\n",
    "    P = PlanPathRRT(rob,obst,param,p_start,p_goal);\n",
    "    # Plot the path\n",
    "    for i=2:length(P)\n",
    "        plot([P(1,i);P(1,i-1)],[P(2,i);P(2,i-1)],'g','LineWidth',3);\n",
    "    end\n",
    "    \n",
    "end"
   ]
  },
  {
   "cell_type": "code",
   "execution_count": 3,
   "metadata": {},
   "outputs": [
    {
     "ename": "LoadError",
     "evalue": "\u001b[91mUndefVarError: figure not defined\u001b[39m",
     "output_type": "error",
     "traceback": [
      "\u001b[91mUndefVarError: figure not defined\u001b[39m",
      "",
      "Stacktrace:",
      " [1] \u001b[1minclude_string\u001b[22m\u001b[22m\u001b[1m(\u001b[22m\u001b[22m::String, ::String\u001b[1m)\u001b[22m\u001b[22m at \u001b[1m./loading.jl:515\u001b[22m\u001b[22m"
     ]
    }
   ],
   "source": []
  },
  {
   "cell_type": "code",
   "execution_count": null,
   "metadata": {
    "collapsed": true
   },
   "outputs": [],
   "source": []
  }
 ],
 "metadata": {
  "kernelspec": {
   "display_name": "Julia 0.6.0",
   "language": "julia",
   "name": "julia-0.6"
  },
  "language_info": {
   "file_extension": ".jl",
   "mimetype": "application/julia",
   "name": "julia",
   "version": "0.6.0"
  }
 },
 "nbformat": 4,
 "nbformat_minor": 2
}

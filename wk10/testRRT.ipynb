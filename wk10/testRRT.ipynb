{
 "cells": [
  {
   "cell_type": "code",
   "execution_count": 26,
   "metadata": {
    "scrolled": false
   },
   "outputs": [
    {
     "name": "stdout",
     "output_type": "stream",
     "text": [
      "\n",
      " ---- Running PRM ------\n",
      "pt_new = "
     ]
    },
    {
     "name": "stderr",
     "output_type": "stream",
     "text": [
      "WARNING: replacing module algT\n",
      "WARNING: replacing module algfxn\n",
      "WARNING: replacing module plotfxn\n",
      "WARNING: Method definition apply_recipe(Base.Dict{Symbol, Any}, GeometryTypes.HyperRectangle{N, T} where T where N) in module plotfxn at /home/nrw/.julia/v0.6/RecipesBase/src/RecipesBase.jl:281 overwritten in module plotfxn at /home/nrw/.julia/v0.6/RecipesBase/src/RecipesBase.jl:281.\n",
      "WARNING: Method definition apply_recipe(Base.Dict{Symbol, Any}, GeometryTypes.Point{S, T} where T where S) in module plotfxn at /home/nrw/.julia/v0.6/RecipesBase/src/RecipesBase.jl:281 overwritten in module plotfxn at /home/nrw/.julia/v0.6/RecipesBase/src/RecipesBase.jl:281.\n",
      "WARNING: Method definition apply_recipe(Base.Dict{Symbol, Any}, GeometryTypes.Simplex{2, T} where T) in module plotfxn at /home/nrw/.julia/v0.6/RecipesBase/src/RecipesBase.jl:281 overwritten in module plotfxn at /home/nrw/.julia/v0.6/RecipesBase/src/RecipesBase.jl:281.\n",
      "WARNING: Method definition apply_recipe(Base.Dict{Symbol, Any}, Array{#s196, 1} where #s196<:(GeometryTypes.HyperRectangle{N, T} where T where N)) in module plotfxn at /home/nrw/.julia/v0.6/RecipesBase/src/RecipesBase.jl:281 overwritten in module plotfxn at /home/nrw/.julia/v0.6/RecipesBase/src/RecipesBase.jl:281.\n",
      "WARNING: Method definition apply_recipe(Base.Dict{Symbol, Any}, Array{#s194, 1} where #s194<:(GeometryTypes.Point{S, T} where T where S)) in module plotfxn at /home/nrw/.julia/v0.6/RecipesBase/src/RecipesBase.jl:281 overwritten in module plotfxn at /home/nrw/.julia/v0.6/RecipesBase/src/RecipesBase.jl:281.\n",
      "WARNING: Method definition apply_recipe(Base.Dict{Symbol, Any}, Array{#s192, 1} where #s192<:(GeometryTypes.Simplex{2, T} where T)) in module plotfxn at /home/nrw/.julia/v0.6/RecipesBase/src/RecipesBase.jl:281 overwritten in module plotfxn at /home/nrw/.julia/v0.6/RecipesBase/src/RecipesBase.jl:281.\n"
     ]
    },
    {
     "name": "stdout",
     "output_type": "stream",
     "text": [
      "[5.79324, 8.15097]\n",
      "pt_new = [9.20919, 3.89753]\n",
      "pt_new = [5.97292, 8.02024]\n",
      "pt_new = [5.55285, 8.3166]\n",
      "pt_new = [9.10863, 4.12709]\n",
      "pt_new = [7.19033, 6.94976]\n",
      "pt_new = [4.95178, 8.68792]\n",
      "pt_new = [7.89138, 6.14216]\n",
      "pt_new = [2.60414, 9.65497]\n",
      "candidateEdge = GeometryTypes.Point{2,Float64}[[0.0, 0.0], [2.60414, 9.65497]]\n",
      "pt_new = [12.161, 12.5988]\n",
      "pt_new = [10.7568, 15.4458]\n",
      "pt_new = [8.96643, 17.37]\n",
      "pt_new = [12.0404, 6.34484]\n",
      "pt_new = [9.99446, 0.332964]\n",
      "candidateEdge = GeometryTypes.Point{2,Float64}[[0.0, 0.0], [9.99446, 0.332964]]\n",
      "pt_new = [8.68013, 17.5974]\n",
      "pt_new = [8.28861, 17.8822]\n",
      "pt_new = [16.5211, 7.90944]\n",
      "candidateEdge = GeometryTypes.Point{2,Float64}[[9.99446, 0.332964], [16.5211, 7.90944]]\n",
      "pt_new = [11.5609, 14.1021]\n",
      "pt_new = [0.273069, 2.67703]\n",
      "candidateEdge = GeometryTypes.Point{2,Float64}[[9.99446, 0.332964], [0.273069, 2.67703]]\n",
      "pt_new = [10.2217, 10.3304]\n",
      "candidateEdge = GeometryTypes.Point{2,Float64}[[9.99446, 0.332964], [10.2217, 10.3304]]\n",
      "pt_new = [0.0331341, 1.21165]\n",
      "candidateEdge = GeometryTypes.Point{2,Float64}[[9.99446, 0.332964], [0.0331341, 1.21165]]\n",
      "pt_new = [1.9858, 12.5293]\n",
      "candidateEdge = GeometryTypes.Point{2,Float64}[[0.273069, 2.67703], [1.9858, 12.5293]]\n",
      "pt_new = [20.7437, -1.15529]\n",
      "pt_new = [20.42, 17.1181]\n",
      "pt_new = [7.95757, 2.74553]\n",
      "pt_new = [-0.477688, 22.2211]\n",
      "pt_new = [1.36591, 5.38748]\n",
      "candidateEdge = GeometryTypes.Point{2,Float64}[[9.99446, 0.332964], [1.36591, 5.38748]]\n",
      "pt_new = [8.28175, 0.520356]\n",
      "pt_new = [19.9193, 1.55645]\n",
      "candidateEdge = GeometryTypes.Point{2,Float64}[[9.99446, 0.332964], [19.9193, 1.55645]]\n",
      "pt_new = [10.0115, 2.91082]\n",
      "candidateEdge = GeometryTypes.Point{2,Float64}[[19.9193, 1.55645], [10.0115, 2.91082]]\n",
      "pt_new = [10.2017, 1.48458]\n",
      "candidateEdge = GeometryTypes.Point{2,Float64}[[0.273069, 2.67703], [10.2017, 1.48458]]\n",
      "pt_new = [19.7711, 17.3666]\n",
      "candidateEdge = GeometryTypes.Point{2,Float64}[[16.5211, 7.90944], [19.7711, 17.3666]]\n",
      "pt_new = [9.60348, 6.27473]\n",
      "pt_new = [10.2152, 18.2105]\n",
      "pt_new = [7.99733, 2.68016]\n",
      "pt_new = [3.07404, 22.4699]\n",
      "pt_new = [19.9933, 2.30822]\n",
      "candidateEdge = GeometryTypes.Point{2,Float64}[[10.0115, 2.91082], [19.9933, 2.30822]]\n",
      "pt_new = [4.04633, 22.3147]\n",
      "pt_new = [9.99342, 2.25869]\n",
      "candidateEdge = GeometryTypes.Point{2,Float64}[[19.9933, 2.30822], [9.99342, 2.25869]]\n",
      "pt_new = [1.54768, 15.3065]\n",
      "pt_new = [17.7207, 3.71483]\n",
      "candidateEdge = GeometryTypes.Point{2,Float64}[[10.2217, 10.3304], [17.7207, 3.71483]]\n",
      "pt_new = [-7.41788, 9.12768]\n",
      "pt_new = [-7.18342, 7.6047]\n",
      "pt_new = [-0.417749, 22.2361]\n",
      "pt_new = [8.68492, 19.9537]\n",
      "candidateEdge = GeometryTypes.Point{2,Float64}[[1.9858, 12.5293], [8.68492, 19.9537]]\n",
      "pt_new = [-7.36449, 8.86356]\n",
      "pt_new = [2.66227, 11.9707]\n",
      "pt_new = [4.88547, 10.7036]\n",
      "pt_new = [7.84206, 2.16136]\n",
      "candidateEdge = GeometryTypes.Point{2,Float64}[[17.7207, 3.71483], [7.84206, 2.16136]]\n",
      "pt_new = [9.57236, -1.00035]\n",
      "isPathFound = false\n",
      "edgeslist = algT.Edge[algT.Edge(0, 1), algT.Edge(0, 2), algT.Edge(2, 3), algT.Edge(2, 4), algT.Edge(2, 5), algT.Edge(2, 6), algT.Edge(4, 7), algT.Edge(2, 8), algT.Edge(2, 9), algT.Edge(9, 10), algT.Edge(4, 11), algT.Edge(3, 12), algT.Edge(10, 13), algT.Edge(13, 14), algT.Edge(5, 15), algT.Edge(7, 16), algT.Edge(15, 17)]\n",
      "\n",
      " ---Solution Path----- \n",
      "\n",
      " -------- \n"
     ]
    },
    {
     "data": {
      "text/html": [
       "<script src=\"/home/nrw/.julia/v0.6/Plots/src/backends/../../deps/plotly-latest.min.js\"></script>    <div id=\"1adbce2d-14ea-415d-b0ab-f5af6bc7faa4\" style=\"width:600px;height:600px;\"></div>\n",
       "    <script>\n",
       "    PLOT = document.getElementById('1adbce2d-14ea-415d-b0ab-f5af6bc7faa4');\n",
       "    Plotly.plot(PLOT, [{\"showlegend\":true,\"mode\":\"lines\",\"xaxis\":\"x\",\"colorbar\":{\"title\":\"\"},\"line\":{\"color\":\"rgba(0, 0, 0, 1.000)\",\"shape\":\"linear\",\"dash\":\"solid\",\"width\":3},\"y\":[20.0,20.0],\"type\":\"scatter\",\"name\":\"y1\",\"yaxis\":\"y\",\"x\":[0.0,20.0]},{\"showlegend\":true,\"mode\":\"lines\",\"xaxis\":\"x\",\"colorbar\":{\"title\":\"\"},\"line\":{\"color\":\"rgba(0, 0, 0, 1.000)\",\"shape\":\"linear\",\"dash\":\"solid\",\"width\":3},\"y\":[0.0,20.0],\"type\":\"scatter\",\"name\":\"y2\",\"yaxis\":\"y\",\"x\":[20.0,20.0]},{\"showlegend\":true,\"mode\":\"lines\",\"xaxis\":\"x\",\"colorbar\":{\"title\":\"\"},\"line\":{\"color\":\"rgba(0, 0, 0, 1.000)\",\"shape\":\"linear\",\"dash\":\"solid\",\"width\":3},\"y\":[0.0,0.0],\"type\":\"scatter\",\"name\":\"y3\",\"yaxis\":\"y\",\"x\":[0.0,20.0]},{\"showlegend\":true,\"mode\":\"lines\",\"xaxis\":\"x\",\"colorbar\":{\"title\":\"\"},\"line\":{\"color\":\"rgba(0, 0, 0, 1.000)\",\"shape\":\"linear\",\"dash\":\"solid\",\"width\":3},\"y\":[0.0,20.0],\"type\":\"scatter\",\"name\":\"y4\",\"yaxis\":\"y\",\"x\":[0.0,0.0]},{\"xaxis\":\"x\",\"fill\":\"tozeroy\",\"yaxis\":\"y\",\"x\":[8.0,10.0,10.0,8.0,8.0],\"showlegend\":true,\"mode\":\"lines\",\"fillcolor\":\"rgba(172, 142, 24, 0.500)\",\"name\":\"y5\",\"line\":{\"color\":\"rgba(0, 0, 0, 1.000)\",\"dash\":\"solid\",\"width\":1},\"y\":[3.0,3.0,5.0,5.0,3.0],\"type\":\"scatter\"},{\"xaxis\":\"x\",\"fill\":\"tozeroy\",\"yaxis\":\"y\",\"x\":[4.0,6.0,6.0,4.0,4.0],\"showlegend\":true,\"mode\":\"lines\",\"fillcolor\":\"rgba(0, 170, 174, 0.500)\",\"name\":\"y6\",\"line\":{\"color\":\"rgba(0, 0, 0, 1.000)\",\"dash\":\"solid\",\"width\":1},\"y\":[4.0,4.0,14.0,14.0,4.0],\"type\":\"scatter\"},{\"xaxis\":\"x\",\"fill\":\"tozeroy\",\"yaxis\":\"y\",\"x\":[14.0,17.0,17.0,14.0,14.0],\"showlegend\":true,\"mode\":\"lines\",\"fillcolor\":\"rgba(237, 94, 147, 0.500)\",\"name\":\"y7\",\"line\":{\"color\":\"rgba(0, 0, 0, 1.000)\",\"dash\":\"solid\",\"width\":1},\"y\":[14.0,14.0,18.0,18.0,14.0],\"type\":\"scatter\"},{\"showlegend\":true,\"mode\":\"markers\",\"xaxis\":\"x\",\"colorbar\":{\"title\":\"\"},\"marker\":{\"symbol\":\"circle\",\"color\":\"rgba(0, 0, 0, 1.000)\",\"line\":{\"color\":\"rgba(0, 0, 0, 1.000)\",\"width\":1},\"size\":8},\"y\":[0.0,9.654970482697037,0.33296437954968033,7.909440010630354,2.6770310815645564,10.33038207356856,1.2116465693420488,12.529266968077621,5.387479976351864,1.5564471747767088,2.9108175236228258,1.4845832269885388,17.366562011971904,2.3082215849485515,2.2586916279440286,3.714828471838267,19.9536703119875,2.161359847575484],\"type\":\"scatter\",\"name\":\"y8\",\"yaxis\":\"y\",\"x\":[0.0,2.6041399690202782,9.994455198856569,16.521094227609474,0.27306891414876056,10.221698353469073,0.03313412134171401,1.9858000770882642,1.3659053739043205,19.919327482658687,10.011467927832204,10.201717770570115,19.771147065909425,19.993295322387432,9.993417983971769,17.720661651327873,8.684922033504627,7.8420617893316855]},{\"showlegend\":true,\"mode\":\"lines\",\"xaxis\":\"x\",\"colorbar\":{\"title\":\"\"},\"line\":{\"color\":\"rgba(210, 180, 140, 1.000)\",\"shape\":\"linear\",\"dash\":\"solid\",\"width\":0.3},\"y\":[0.0,9.654970482697037,null,0.0,0.33296437954968033,null,0.33296437954968033,7.909440010630354,null,0.33296437954968033,2.6770310815645564,null,0.33296437954968033,10.33038207356856,null,0.33296437954968033,1.2116465693420488,null,2.6770310815645564,12.529266968077621,null,0.33296437954968033,5.387479976351864,null,0.33296437954968033,1.5564471747767088,null,1.5564471747767088,2.9108175236228258,null,2.6770310815645564,1.4845832269885388,null,7.909440010630354,17.366562011971904,null,2.9108175236228258,2.3082215849485515,null,2.3082215849485515,2.2586916279440286,null,10.33038207356856,3.714828471838267,null,12.529266968077621,19.9536703119875,null,3.714828471838267,2.161359847575484,null],\"type\":\"scatter\",\"name\":\"y9\",\"yaxis\":\"y\",\"x\":[0.0,2.6041399690202782,null,0.0,9.994455198856569,null,9.994455198856569,16.521094227609474,null,9.994455198856569,0.27306891414876056,null,9.994455198856569,10.221698353469073,null,9.994455198856569,0.03313412134171401,null,0.27306891414876056,1.9858000770882642,null,9.994455198856569,1.3659053739043205,null,9.994455198856569,19.919327482658687,null,19.919327482658687,10.011467927832204,null,0.27306891414876056,10.201717770570115,null,16.521094227609474,19.771147065909425,null,10.011467927832204,19.993295322387432,null,19.993295322387432,9.993417983971769,null,10.221698353469073,17.720661651327873,null,1.9858000770882642,8.684922033504627,null,17.720661651327873,7.8420617893316855,null]},{\"showlegend\":true,\"mode\":\"markers\",\"xaxis\":\"x\",\"colorbar\":{\"title\":\"\"},\"marker\":{\"symbol\":\"circle\",\"color\":\"rgba(255, 0, 0, 1.000)\",\"line\":{\"color\":\"rgba(0, 0, 0, 0.500)\",\"width\":1},\"size\":12},\"y\":[0.0],\"type\":\"scatter\",\"name\":\"y10\",\"yaxis\":\"y\",\"x\":[0.0]},{\"showlegend\":true,\"mode\":\"markers\",\"xaxis\":\"x\",\"colorbar\":{\"title\":\"\"},\"marker\":{\"symbol\":\"triangle-down\",\"color\":\"rgba(0, 169, 204, 1.000)\",\"line\":{\"color\":\"rgba(0, 128, 0, 1.000)\",\"width\":5},\"size\":10},\"y\":[20.0],\"type\":\"scatter\",\"name\":\"y11\",\"yaxis\":\"y\",\"x\":[20.0]},{\"showlegend\":true,\"mode\":\"lines\",\"xaxis\":\"x\",\"colorbar\":{\"title\":\"\"},\"line\":{\"color\":\"rgba(218, 112, 214, 1.000)\",\"shape\":\"linear\",\"dash\":\"solid\",\"width\":3},\"y\":[0.0,20.0],\"type\":\"scatter\",\"name\":\"y12\",\"yaxis\":\"y\",\"x\":[0.0,20.0]}], {\"showlegend\":false,\"xaxis\":{\"gridwidth\":0.5,\"tickvals\":[0.0,1.0,2.0,3.0,4.0,5.0,6.0,7.0,8.0,9.0,10.0,11.0,12.0,13.0,14.0,15.0,16.0,17.0,18.0,19.0,20.0],\"visible\":true,\"ticks\":\"inside\",\"range\":[-5.0,25.0],\"domain\":[0.03619130941965587,0.9934383202099738],\"tickmode\":\"array\",\"linecolor\":\"rgba(0, 0, 0, 1.000)\",\"showgrid\":true,\"title\":\"\",\"mirror\":false,\"tickangle\":0,\"showline\":true,\"gridcolor\":\"rgba(0, 0, 0, 0.100)\",\"titlefont\":{\"color\":\"rgba(0, 0, 0, 1.000)\",\"family\":\"sans-serif\",\"size\":15},\"tickcolor\":\"rgb(0, 0, 0)\",\"ticktext\":[\"0\",\"1\",\"2\",\"3\",\"4\",\"5\",\"6\",\"7\",\"8\",\"9\",\"10\",\"11\",\"12\",\"13\",\"14\",\"15\",\"16\",\"17\",\"18\",\"19\",\"20\"],\"zeroline\":false,\"type\":\"-\",\"tickfont\":{\"color\":\"rgba(0, 0, 0, 1.000)\",\"family\":\"sans-serif\",\"size\":11},\"zerolinecolor\":\"rgba(0, 0, 0, 1.000)\",\"anchor\":\"y\"},\"paper_bgcolor\":\"rgba(255, 255, 255, 1.000)\",\"annotations\":[{\"yanchor\":\"top\",\"xanchor\":\"center\",\"rotation\":-0.0,\"y\":1.0,\"font\":{\"color\":\"rgba(0, 0, 0, 1.000)\",\"family\":\"sans-serif\",\"size\":20},\"yref\":\"paper\",\"showarrow\":false,\"text\":\" Week 10 PRM [ 27 Nov 2017 07:02:14 ] \\n\\n50 samples, connectRadius = 10, pathcost = 28.29\",\"xref\":\"paper\",\"x\":0.5148148148148148}],\"height\":600,\"margin\":{\"l\":0,\"b\":20,\"r\":0,\"t\":20},\"plot_bgcolor\":\"rgba(255, 255, 255, 1.000)\",\"yaxis\":{\"gridwidth\":0.5,\"tickvals\":[0.0,1.0,2.0,3.0,4.0,5.0,6.0,7.0,8.0,9.0,10.0,11.0,12.0,13.0,14.0,15.0,16.0,17.0,18.0,19.0,20.0],\"visible\":true,\"ticks\":\"inside\",\"range\":[-5.0,25.0],\"domain\":[0.025080198308544768,0.9610309128025664],\"tickmode\":\"array\",\"linecolor\":\"rgba(0, 0, 0, 1.000)\",\"showgrid\":true,\"title\":\"\",\"mirror\":false,\"tickangle\":0,\"showline\":true,\"gridcolor\":\"rgba(0, 0, 0, 0.100)\",\"titlefont\":{\"color\":\"rgba(0, 0, 0, 1.000)\",\"family\":\"sans-serif\",\"size\":15},\"tickcolor\":\"rgb(0, 0, 0)\",\"ticktext\":[\"0\",\"1\",\"2\",\"3\",\"4\",\"5\",\"6\",\"7\",\"8\",\"9\",\"10\",\"11\",\"12\",\"13\",\"14\",\"15\",\"16\",\"17\",\"18\",\"19\",\"20\"],\"zeroline\":false,\"type\":\"-\",\"tickfont\":{\"color\":\"rgba(0, 0, 0, 1.000)\",\"family\":\"sans-serif\",\"size\":11},\"zerolinecolor\":\"rgba(0, 0, 0, 1.000)\",\"anchor\":\"x\"},\"width\":600});\n",
       "    </script>\n"
      ]
     },
     "execution_count": 26,
     "metadata": {},
     "output_type": "execute_result"
    }
   ],
   "source": [
    "include(\"testRRT.jl\")\n",
    "\n",
    "plotly()\n",
    "\n",
    "main()"
   ]
  }
 ],
 "metadata": {
  "kernelspec": {
   "display_name": "Julia 0.6.1",
   "language": "julia",
   "name": "julia-0.6"
  },
  "language_info": {
   "file_extension": ".jl",
   "mimetype": "application/julia",
   "name": "julia",
   "version": "0.6.1"
  }
 },
 "nbformat": 4,
 "nbformat_minor": 2
}

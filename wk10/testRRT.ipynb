{
 "cells": [
  {
   "cell_type": "code",
   "execution_count": 59,
   "metadata": {
    "scrolled": false
   },
   "outputs": [
    {
     "name": "stdout",
     "output_type": "stream",
     "text": [
      "\n",
      " ---- Running PRM ------\n",
      "pt_new = [9.87348, 1.58566]\n",
      "candidateEdge = GeometryTypes.Point{2,Float64}[[0.0, 0.0], [9.87348, 1.58566]]\n",
      "pt_new = [14.7985, 10.2888]\n",
      "candidateEdge = GeometryTypes.Point{2,Float64}[[9.87348, 1.58566], [14.7985, 10.2888]]\n",
      "pt_new = [1.07445, -3.16587]\n",
      "pt_new = [5.50868, 13.9902]\n",
      "candidateEdge = GeometryTypes.Point{2,Float64}[[14.7985, 10.2888], [5.50868, 13.9902]]\n",
      "pt_new = [21.783, 17.4454]\n",
      "pt_new = [19.6165, -0.666763]\n",
      "pt_new = [19.8731, 1.49917]\n",
      "candidateEdge = GeometryTypes.Point{2,Float64}[[9.87348, 1.58566], [19.8731, 1.49917]]\n",
      "pt_new = [-2.74032, 19.6429]\n",
      "pt_new = [23.5596, 5.46778]\n",
      "pt_new = [7.51227, 4.19293]\n",
      "candidateEdge = GeometryTypes.Point{2,Float64}[[5.50868, 13.9902], [7.51227, 4.19293]]\n",
      "pt_new = [19.951, 11.4989]\n",
      "candidateEdge = GeometryTypes.Point{2,Float64}[[19.8731, 1.49917], [19.951, 11.4989]]\n",
      "pt_new = [13.2543, 8.99531]\n",
      "candidateEdge = GeometryTypes.Point{2,Float64}[[19.8731, 1.49917], [13.2543, 8.99531]]\n",
      "pt_new = [-2.46415, 3.50666]\n",
      "pt_new = [16.6469, 20.9373]\n",
      "pt_new = [0.894267, 5.11845]\n",
      "candidateEdge = GeometryTypes.Point{2,Float64}[[5.50868, 13.9902], [0.894267, 5.11845]]\n",
      "pt_new = [11.4954, 19.7276]\n",
      "candidateEdge = GeometryTypes.Point{2,Float64}[[14.7985, 10.2888], [11.4954, 19.7276]]\n",
      "pt_new = [11.3937, 13.4089]\n",
      "candidateEdge = GeometryTypes.Point{2,Float64}[[7.51227, 4.19293], [11.3937, 13.4089]]\n",
      "pt_new = [6.02454, 14.0816]\n",
      "candidateEdge = GeometryTypes.Point{2,Float64}[[7.51227, 4.19293], [6.02454, 14.0816]]\n",
      "pt_new = [16.8579, 1.98926]\n",
      "candidateEdge = GeometryTypes.Point{2,Float64}[[19.951, 11.4989], [16.8579, 1.98926]]\n",
      "pt_new = [16.5788, 20.9131]\n",
      "pt_new = [14.9809, 10.3546]\n",
      "candidateEdge = GeometryTypes.Point{2,Float64}[[11.4954, 19.7276], [14.9809, 10.3546]]\n",
      "pt_new = [21.4885, 19.3554]\n",
      "isPathFound = true\n",
      "edgeslist = "
     ]
    },
    {
     "name": "stderr",
     "output_type": "stream",
     "text": [
      "WARNING: replacing module algT\n",
      "WARNING: replacing module algfxn\n",
      "WARNING: replacing module plotfxn\n",
      "WARNING: Method definition apply_recipe(Base.Dict{Symbol, Any}, GeometryTypes.HyperRectangle{N, T} where T where N) in module plotfxn at /home/nrw/.julia/v0.6/RecipesBase/src/RecipesBase.jl:281 overwritten in module plotfxn at /home/nrw/.julia/v0.6/RecipesBase/src/RecipesBase.jl:281.\n",
      "WARNING: Method definition apply_recipe(Base.Dict{Symbol, Any}, GeometryTypes.Point{S, T} where T where S) in module plotfxn at /home/nrw/.julia/v0.6/RecipesBase/src/RecipesBase.jl:281 overwritten in module plotfxn at /home/nrw/.julia/v0.6/RecipesBase/src/RecipesBase.jl:281.\n",
      "WARNING: Method definition apply_recipe(Base.Dict{Symbol, Any}, GeometryTypes.Simplex{2, T} where T) in module plotfxn at /home/nrw/.julia/v0.6/RecipesBase/src/RecipesBase.jl:281 overwritten in module plotfxn at /home/nrw/.julia/v0.6/RecipesBase/src/RecipesBase.jl:281.\n",
      "WARNING: Method definition apply_recipe(Base.Dict{Symbol, Any}, Array{#s597, 1} where #s597<:(GeometryTypes.HyperRectangle{N, T} where T where N)) in module plotfxn at /home/nrw/.julia/v0.6/RecipesBase/src/RecipesBase.jl:281 overwritten in module plotfxn at /home/nrw/.julia/v0.6/RecipesBase/src/RecipesBase.jl:281.\n",
      "WARNING: Method definition apply_recipe(Base.Dict{Symbol, Any}, Array{#s600, 1} where #s600<:(GeometryTypes.Point{S, T} where T where S)) in module plotfxn at /home/nrw/.julia/v0.6/RecipesBase/src/RecipesBase.jl:281 overwritten in module plotfxn at /home/nrw/.julia/v0.6/RecipesBase/src/RecipesBase.jl:281.\n",
      "WARNING: Method definition apply_recipe(Base.Dict{Symbol, Any}, Array{#s603, 1} where #s603<:(GeometryTypes.Simplex{2, T} where T)) in module plotfxn at /home/nrw/.julia/v0.6/RecipesBase/src/RecipesBase.jl:281 overwritten in module plotfxn at /home/nrw/.julia/v0.6/RecipesBase/src/RecipesBase.jl:281.\n"
     ]
    },
    {
     "name": "stdout",
     "output_type": "stream",
     "text": [
      "algT.Edge[algT.Edge(0, 1), algT.Edge(1, 2), algT.Edge(2, 3), algT.Edge(1, 4), algT.Edge(3, 5), algT.Edge(4, 6), algT.Edge(4, 7), algT.Edge(3, 8), algT.Edge(2, 9), algT.Edge(5, 10), algT.Edge(5, 11), algT.Edge(6, 12), algT.Edge(9, 13)]\n",
      "AHHH bORKENAHHH bORKENAHHH bORKENAHHH bORKENAHHH bORKENAHHH bORKENAHHH bORKENAHHH bORKENAHHH bORKENAHHH bORKENAHHH bORKENAHHH bORKEN"
     ]
    },
    {
     "ename": "LoadError",
     "evalue": "\u001b[91mUndefVarError: node not defined\u001b[39m",
     "output_type": "error",
     "traceback": [
      "\u001b[91mUndefVarError: node not defined\u001b[39m",
      "",
      "Stacktrace:",
      " [1] \u001b[1mrrtPlan\u001b[22m\u001b[22m\u001b[1m(\u001b[22m\u001b[22m::algT.Room, ::algT.AlgParameters, ::GeometryTypes.Point{2,Float64}, ::GeometryTypes.Point{2,Float64}, ::Array{GeometryTypes.HyperRectangle,1}\u001b[1m)\u001b[22m\u001b[22m at \u001b[1m/home/nrw/Documents/299r/janson299r/wk10/RRT.jl:452\u001b[22m\u001b[22m",
      " [2] \u001b[1mmain\u001b[22m\u001b[22m\u001b[1m(\u001b[22m\u001b[22m\u001b[1m)\u001b[22m\u001b[22m at \u001b[1m/home/nrw/Documents/299r/janson299r/wk10/testRRT.jl:48\u001b[22m\u001b[22m",
      " [3] \u001b[1minclude_string\u001b[22m\u001b[22m\u001b[1m(\u001b[22m\u001b[22m::String, ::String\u001b[1m)\u001b[22m\u001b[22m at \u001b[1m./loading.jl:522\u001b[22m\u001b[22m"
     ]
    }
   ],
   "source": [
    "include(\"testRRT.jl\")\n",
    "\n",
    "plotly()\n",
    "\n",
    "main()"
   ]
  },
  {
   "cell_type": "code",
   "execution_count": 57,
   "metadata": {},
   "outputs": [
    {
     "data": {
      "text/plain": [
       "5.275385393290368"
      ]
     },
     "execution_count": 57,
     "metadata": {},
     "output_type": "execute_result"
    }
   ],
   "source": [
    "rand(Uniform(0,20))"
   ]
  }
 ],
 "metadata": {
  "kernelspec": {
   "display_name": "Julia 0.6.1",
   "language": "julia",
   "name": "julia-0.6"
  },
  "language_info": {
   "file_extension": ".jl",
   "mimetype": "application/julia",
   "name": "julia",
   "version": "0.6.1"
  }
 },
 "nbformat": 4,
 "nbformat_minor": 2
}

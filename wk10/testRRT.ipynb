{
 "cells": [
  {
   "cell_type": "code",
   "execution_count": 87,
   "metadata": {
    "scrolled": false
   },
   "outputs": [
    {
     "name": "stdout",
     "output_type": "stream",
     "text": [
      "\n",
      " ---- Running PRM ------\n",
      "isPathFound = true\n",
      "currPathID = 96\n",
      "edge = algT.Edge(0, 1)\n",
      "edge = algT.Edge(1, 2)\n",
      "edge = algT.Edge(2, 3)\n",
      "edge = algT.Edge(2, 4)\n",
      "edge = algT.Edge(3, 5)\n",
      "edge = algT.Edge(1, 6)\n",
      "edge = algT.Edge(3, 7)\n",
      "edge = algT.Edge(6, 8)\n",
      "edge = algT.Edge(6, 9)\n",
      "edge = algT.Edge(2, 10)\n",
      "edge = algT.Edge(10, 11)\n",
      "edge = algT.Edge(8, 12)\n",
      "edge = algT.Edge(5, 13)\n",
      "edge = algT.Edge(10, 14)\n",
      "edge = algT.Edge(1, 15)\n",
      "edge = algT.Edge(7, 16)\n",
      "edge = algT.Edge(13, 17)\n",
      "edge = algT.Edge(10, 18)\n",
      "edge = algT.Edge(9, 19)\n",
      "edge = algT.Edge(19, 20)\n",
      "edge = algT.Edge(7, 21)\n",
      "edge = algT.Edge(10, 22)\n",
      "edge = algT.Edge(22, 23)\n",
      "edge = algT.Edge(12, 24)\n",
      "edge = algT.Edge(8, 25)\n",
      "edge = algT.Edge(0, 26)\n",
      "edge = algT.Edge(1, 27)\n",
      "edge = algT.Edge(7, 28)\n",
      "edge = algT.Edge(13, 29)\n",
      "edge = algT.Edge(21, 30)\n",
      "edge = algT.Edge(25, 31)\n",
      "edge = algT.Edge(4, 32)\n",
      "edge = algT.Edge(16, 33)\n",
      "edge = algT.Edge(2, 34)\n",
      "edge = algT.Edge(25, 35)\n",
      "edge = algT.Edge(24, 36)\n",
      "edge = algT.Edge(25, 37)\n",
      "edge = algT.Edge(37, 38)\n",
      "edge = algT.Edge(33, 39)\n",
      "edge = algT.Edge(33, 40)\n",
      "edge = algT.Edge(12, 41)\n",
      "edge = algT.Edge(12, 42)\n",
      "edge = algT.Edge(8, 43)\n",
      "edge = algT.Edge(26, 44)\n",
      "edge = algT.Edge(20, 45)\n",
      "edge = algT.Edge(9, 46)\n",
      "edge = algT.Edge(43, 47)\n",
      "edge = algT.Edge(25, 48)\n",
      "edge = algT.Edge(24, 49)\n",
      "edge = algT.Edge(17, 50)\n",
      "edge = algT.Edge(11, 51)\n",
      "edge = algT.Edge(28, 52)\n",
      "edge = algT.Edge(48, 53)\n",
      "edge = algT.Edge(43, 54)\n",
      "edge = algT.Edge(47, 55)\n",
      "edge = algT.Edge(17, 56)\n",
      "edge = algT.Edge(33, 57)\n",
      "edge = algT.Edge(4, 58)\n",
      "edge = algT.Edge(51, 59)\n",
      "edge = algT.Edge(49, 60)\n",
      "edge = algT.Edge(39, 61)\n",
      "edge = algT.Edge(32, 62)\n",
      "edge = algT.Edge(55, 63)\n",
      "edge = algT.Edge(11, 64)\n",
      "edge = algT.Edge(56, 65)\n",
      "edge = algT.Edge(26, 66)\n",
      "edge = algT.Edge(42, 67)\n",
      "edge = algT.Edge(15, 68)\n",
      "edge = algT.Edge(59, 69)\n",
      "edge = algT.Edge(40, 70)\n",
      "edge = algT.Edge(44, 71)\n",
      "edge = algT.Edge(45, 72)\n",
      "edge = algT.Edge(60, 73)\n",
      "edge = algT.Edge(30, 74)\n",
      "edge = algT.Edge(22, 75)\n",
      "edge = algT.Edge(41, 76)\n",
      "edge = algT.Edge(41, 77)\n",
      "edge = algT.Edge(19, 78)\n",
      "edge = algT.Edge(8, 79)\n",
      "edge = algT.Edge(4, 80)\n",
      "edge = algT.Edge(51, 81)\n",
      "edge = algT.Edge(57, 82)\n",
      "edge = algT.Edge(34, 83)\n",
      "edge = algT.Edge(83, 84)\n",
      "edge = algT.Edge(84, 85)\n",
      "edge = algT.Edge(14, 86)\n",
      "edge = algT.Edge(10, 87)\n",
      "edge = algT.Edge(45, 88)\n",
      "edge = algT.Edge(5, 89)\n",
      "edge = algT.Edge(44, 90)\n",
      "edge = algT.Edge(17, 91)\n",
      "edge = algT.Edge(14, 92)\n",
      "edge = algT.Edge(50, 93)\n",
      "edge = algT.Edge(58, 94)\n",
      "edge = algT.Edge(86, 95)\n",
      "edge = algT.Edge(29, 96)\n"
     ]
    },
    {
     "name": "stderr",
     "output_type": "stream",
     "text": [
      "WARNING: replacing module algT\n",
      "WARNING: replacing module algfxn\n",
      "WARNING: replacing module plotfxn\n",
      "WARNING: Method definition apply_recipe(Base.Dict{Symbol, Any}, GeometryTypes.HyperRectangle{N, T} where T where N) in module plotfxn at /home/nrw/.julia/v0.6/RecipesBase/src/RecipesBase.jl:281 overwritten in module plotfxn at /home/nrw/.julia/v0.6/RecipesBase/src/RecipesBase.jl:281.\n",
      "WARNING: Method definition apply_recipe(Base.Dict{Symbol, Any}, GeometryTypes.Point{S, T} where T where S) in module plotfxn at /home/nrw/.julia/v0.6/RecipesBase/src/RecipesBase.jl:281 overwritten in module plotfxn at /home/nrw/.julia/v0.6/RecipesBase/src/RecipesBase.jl:281.\n",
      "WARNING: Method definition apply_recipe(Base.Dict{Symbol, Any}, GeometryTypes.Simplex{2, T} where T) in module plotfxn at /home/nrw/.julia/v0.6/RecipesBase/src/RecipesBase.jl:281 overwritten in module plotfxn at /home/nrw/.julia/v0.6/RecipesBase/src/RecipesBase.jl:281.\n",
      "WARNING: Method definition apply_recipe(Base.Dict{Symbol, Any}, Array{#s1683, 1} where #s1683<:(GeometryTypes.HyperRectangle{N, T} where T where N)) in module plotfxn at /home/nrw/.julia/v0.6/RecipesBase/src/RecipesBase.jl:281 overwritten in module plotfxn at /home/nrw/.julia/v0.6/RecipesBase/src/RecipesBase.jl:281.\n",
      "WARNING: Method definition apply_recipe(Base.Dict{Symbol, Any}, Array{#s1686, 1} where #s1686<:(GeometryTypes.Point{S, T} where T where S)) in module plotfxn at /home/nrw/.julia/v0.6/RecipesBase/src/RecipesBase.jl:281 overwritten in module plotfxn at /home/nrw/.julia/v0.6/RecipesBase/src/RecipesBase.jl:281.\n",
      "WARNING: Method definition apply_recipe(Base.Dict{Symbol, Any}, Array{#s1689, 1} where #s1689<:(GeometryTypes.Simplex{2, T} where T)) in module plotfxn at /home/nrw/.julia/v0.6/RecipesBase/src/RecipesBase.jl:281 overwritten in module plotfxn at /home/nrw/.julia/v0.6/RecipesBase/src/RecipesBase.jl:281.\n"
     ]
    },
    {
     "ename": "LoadError",
     "evalue": "\u001b[91mUndefVarError: node not defined\u001b[39m",
     "output_type": "error",
     "traceback": [
      "\u001b[91mUndefVarError: node not defined\u001b[39m",
      "",
      "Stacktrace:",
      " [1] \u001b[1mmacro expansion\u001b[22m\u001b[22m at \u001b[1m./show.jl:243\u001b[22m\u001b[22m [inlined]",
      " [2] \u001b[1mrrtPlan\u001b[22m\u001b[22m\u001b[1m(\u001b[22m\u001b[22m::algT.Room, ::algT.AlgParameters, ::GeometryTypes.Point{2,Float64}, ::GeometryTypes.Point{2,Float64}, ::Array{GeometryTypes.HyperRectangle,1}\u001b[1m)\u001b[22m\u001b[22m at \u001b[1m/home/nrw/Documents/299r/janson299r/wk10/RRT.jl:457\u001b[22m\u001b[22m",
      " [3] \u001b[1mmain\u001b[22m\u001b[22m\u001b[1m(\u001b[22m\u001b[22m\u001b[1m)\u001b[22m\u001b[22m at \u001b[1m/home/nrw/Documents/299r/janson299r/wk10/testRRT.jl:48\u001b[22m\u001b[22m",
      " [4] \u001b[1minclude_string\u001b[22m\u001b[22m\u001b[1m(\u001b[22m\u001b[22m::String, ::String\u001b[1m)\u001b[22m\u001b[22m at \u001b[1m./loading.jl:522\u001b[22m\u001b[22m"
     ]
    }
   ],
   "source": [
    "include(\"testRRT.jl\")\n",
    "\n",
    "plotly()\n",
    "\n",
    "main()"
   ]
  },
  {
   "cell_type": "code",
   "execution_count": 60,
   "metadata": {},
   "outputs": [
    {
     "data": {
      "text/plain": [
       "2.2075461429530474"
      ]
     },
     "execution_count": 60,
     "metadata": {},
     "output_type": "execute_result"
    }
   ],
   "source": [
    "rand(Uniform(0,20))"
   ]
  }
 ],
 "metadata": {
  "kernelspec": {
   "display_name": "Julia 0.6.1",
   "language": "julia",
   "name": "julia-0.6"
  },
  "language_info": {
   "file_extension": ".jl",
   "mimetype": "application/julia",
   "name": "julia",
   "version": "0.6.1"
  }
 },
 "nbformat": 4,
 "nbformat_minor": 2
}

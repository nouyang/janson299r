{
 "cells": [
  {
   "cell_type": "code",
   "execution_count": 64,
   "metadata": {
    "scrolled": false
   },
   "outputs": [
    {
     "name": "stderr",
     "output_type": "stream",
     "text": [
      "WARNING: replacing module algT\n",
      "WARNING: replacing module algfxn\n",
      "WARNING: replacing module plotfxn\n",
      "WARNING: Method definition apply_recipe(Base.Dict{Symbol, Any}, GeometryTypes.HyperRectangle{N, T} where T where N) in module plotfxn at /home/nrw/.julia/v0.6/RecipesBase/src/RecipesBase.jl:281 overwritten in module plotfxn at /home/nrw/.julia/v0.6/RecipesBase/src/RecipesBase.jl:281.\n",
      "WARNING: Method definition apply_recipe(Base.Dict{Symbol, Any}, GeometryTypes.Point{S, T} where T where S) in module plotfxn at /home/nrw/.julia/v0.6/RecipesBase/src/RecipesBase.jl:281 overwritten in module plotfxn at /home/nrw/.julia/v0.6/RecipesBase/src/RecipesBase.jl:281.\n",
      "WARNING: Method definition apply_recipe(Base.Dict{Symbol, Any}, GeometryTypes.Simplex{2, T} where T) in module plotfxn at /home/nrw/.julia/v0.6/RecipesBase/src/RecipesBase.jl:281 overwritten in module plotfxn at /home/nrw/.julia/v0.6/RecipesBase/src/RecipesBase.jl:281.\n",
      "WARNING: Method definition apply_recipe(Base.Dict{Symbol, Any}, Array{#s350, 1} where #s350<:(GeometryTypes.HyperRectangle{N, T} where T where N)) in module plotfxn at /home/nrw/.julia/v0.6/RecipesBase/src/RecipesBase.jl:281 overwritten in module plotfxn at /home/nrw/.julia/v0.6/RecipesBase/src/RecipesBase.jl:281.\n",
      "WARNING: Method definition apply_recipe(Base.Dict{Symbol, Any}, Array{#s350, 1} where #s350<:(GeometryTypes.Point{S, T} where T where S)) in module plotfxn at /home/nrw/.julia/v0.6/RecipesBase/src/RecipesBase.jl:281 overwritten in module plotfxn at /home/nrw/.julia/v0.6/RecipesBase/src/RecipesBase.jl:281.\n",
      "WARNING: Method definition apply_recipe(Base.Dict{Symbol, Any}, Array{#s350, 1} where #s350<:(GeometryTypes.Simplex{2, T} where T)) in module plotfxn at /home/nrw/.julia/v0.6/RecipesBase/src/RecipesBase.jl:281 overwritten in module plotfxn at /home/nrw/.julia/v0.6/RecipesBase/src/RecipesBase.jl:281.\n"
     ]
    },
    {
     "data": {
      "text/plain": [
       "rectUnionAreaTest (generic function with 1 method)"
      ]
     },
     "execution_count": 64,
     "metadata": {},
     "output_type": "execute_result"
    }
   ],
   "source": [
    "include(\"testPRM.jl\")"
   ]
  },
  {
   "cell_type": "code",
   "execution_count": 66,
   "metadata": {},
   "outputs": [
    {
     "name": "stdout",
     "output_type": "stream",
     "text": [
      "\n",
      " ---- Running PRM ------\n"
     ]
    },
    {
     "ename": "LoadError",
     "evalue": "\u001b[91mUndefVarError: invd not defined\u001b[39m",
     "output_type": "error",
     "traceback": [
      "\u001b[91mUndefVarError: invd not defined\u001b[39m",
      "",
      "Stacktrace:",
      " [1] \u001b[1mpreprocessPRM\u001b[22m\u001b[22m\u001b[1m(\u001b[22m\u001b[22m::algT.Room, ::algT.AlgParameters\u001b[1m)\u001b[22m\u001b[22m at \u001b[1m/home/nrw/Documents/299r/janson299r/wk10/PRM.jl:316\u001b[22m\u001b[22m",
      " [2] \u001b[1mmain\u001b[22m\u001b[22m\u001b[1m(\u001b[22m\u001b[22m\u001b[1m)\u001b[22m\u001b[22m at \u001b[1m/home/nrw/Documents/299r/janson299r/wk10/testPRM.jl:42\u001b[22m\u001b[22m",
      " [3] \u001b[1minclude_string\u001b[22m\u001b[22m\u001b[1m(\u001b[22m\u001b[22m::String, ::String\u001b[1m)\u001b[22m\u001b[22m at \u001b[1m./loading.jl:522\u001b[22m\u001b[22m"
     ]
    }
   ],
   "source": [
    "main()"
   ]
  },
  {
   "cell_type": "code",
   "execution_count": null,
   "metadata": {},
   "outputs": [],
   "source": []
  },
  {
   "cell_type": "code",
   "execution_count": null,
   "metadata": {},
   "outputs": [],
   "source": []
  },
  {
   "cell_type": "code",
   "execution_count": null,
   "metadata": {},
   "outputs": [],
   "source": []
  },
  {
   "cell_type": "code",
   "execution_count": null,
   "metadata": {},
   "outputs": [],
   "source": []
  },
  {
   "cell_type": "code",
   "execution_count": null,
   "metadata": {},
   "outputs": [],
   "source": []
  },
  {
   "cell_type": "code",
   "execution_count": null,
   "metadata": {},
   "outputs": [],
   "source": []
  },
  {
   "cell_type": "code",
   "execution_count": null,
   "metadata": {},
   "outputs": [],
   "source": []
  },
  {
   "cell_type": "code",
   "execution_count": null,
   "metadata": {},
   "outputs": [],
   "source": []
  },
  {
   "cell_type": "code",
   "execution_count": null,
   "metadata": {},
   "outputs": [],
   "source": []
  },
  {
   "cell_type": "code",
   "execution_count": null,
   "metadata": {},
   "outputs": [],
   "source": []
  }
 ],
 "metadata": {
  "celltoolbar": "Raw Cell Format",
  "kernelspec": {
   "display_name": "Julia 0.6.1",
   "language": "julia",
   "name": "julia-0.6"
  },
  "language_info": {
   "file_extension": ".jl",
   "mimetype": "application/julia",
   "name": "julia",
   "version": "0.6.1"
  }
 },
 "nbformat": 4,
 "nbformat_minor": 2
}

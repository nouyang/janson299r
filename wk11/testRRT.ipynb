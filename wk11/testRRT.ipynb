{
 "cells": [
  {
   "cell_type": "code",
   "execution_count": null,
   "metadata": {},
   "outputs": [],
   "source": [
    "Node"
   ]
  },
  {
   "cell_type": "code",
   "execution_count": 3,
   "metadata": {
    "scrolled": false
   },
   "outputs": [
    {
     "ename": "LoadError",
     "evalue": "LoadError: LoadError: \u001b[91mUndefVarError: AlgParameters not defined\u001b[39m\nwhile loading /home/nrw/Documents/299r/janson299r/wk11/RRT.jl, in expression starting on line 20\nwhile loading /home/nrw/Documents/299r/janson299r/wk11/testRRT.jl, in expression starting on line 11",
     "output_type": "error",
     "traceback": [
      "LoadError: LoadError: \u001b[91mUndefVarError: AlgParameters not defined\u001b[39m\nwhile loading /home/nrw/Documents/299r/janson299r/wk11/RRT.jl, in expression starting on line 20\nwhile loading /home/nrw/Documents/299r/janson299r/wk11/testRRT.jl, in expression starting on line 11",
      "",
      "Stacktrace:",
      " [1] \u001b[1minclude_from_node1\u001b[22m\u001b[22m\u001b[1m(\u001b[22m\u001b[22m::String\u001b[1m)\u001b[22m\u001b[22m at \u001b[1m./loading.jl:576\u001b[22m\u001b[22m",
      " [2] \u001b[1minclude\u001b[22m\u001b[22m\u001b[1m(\u001b[22m\u001b[22m::String\u001b[1m)\u001b[22m\u001b[22m at \u001b[1m./sysimg.jl:14\u001b[22m\u001b[22m",
      " [3] \u001b[1minclude_from_node1\u001b[22m\u001b[22m\u001b[1m(\u001b[22m\u001b[22m::String\u001b[1m)\u001b[22m\u001b[22m at \u001b[1m./loading.jl:576\u001b[22m\u001b[22m",
      " [4] \u001b[1minclude\u001b[22m\u001b[22m\u001b[1m(\u001b[22m\u001b[22m::String\u001b[1m)\u001b[22m\u001b[22m at \u001b[1m./sysimg.jl:14\u001b[22m\u001b[22m",
      " [5] \u001b[1minclude_string\u001b[22m\u001b[22m\u001b[1m(\u001b[22m\u001b[22m::String, ::String\u001b[1m)\u001b[22m\u001b[22m at \u001b[1m./loading.jl:522\u001b[22m\u001b[22m"
     ]
    }
   ],
   "source": [
    "include(\"testRRT.jl\")\n",
    "\n",
    "plotly()\n",
    "\n",
    "main()"
   ]
  },
  {
   "cell_type": "code",
   "execution_count": null,
   "metadata": {},
   "outputs": [],
   "source": [
    "include(\"RRT.jl\")"
   ]
  },
  {
   "cell_type": "code",
   "execution_count": null,
   "metadata": {},
   "outputs": [],
   "source": [
    "rand(Uniform(0,20))\n",
    "\n",
    "a = false\n",
    "b = false\n",
    "if !a && !b\n",
    "    print(\"hi\")\n",
    "end"
   ]
  },
  {
   "cell_type": "code",
   "execution_count": null,
   "metadata": {
    "scrolled": true
   },
   "outputs": [],
   "source": [
    "module fun \n",
    "using algT\n",
    "algT.Node\n",
    "end\n"
   ]
  },
  {
   "cell_type": "code",
   "execution_count": null,
   "metadata": {},
   "outputs": [],
   "source": [
    "module MyModule\n",
    "\n",
    "\n",
    "export MyType, foo\n",
    "\n",
    "type MyType\n",
    "    x\n",
    "end\n",
    "\n",
    "bar(x) = 2x\n",
    "foo(a::MyType) = bar(a.x) + 1\n",
    "\n",
    "show(io, a::MyType) = print(io, \"MyType $(a.x)\")\n",
    "end\n",
    "\n",
    "module runTest\n",
    "using MyModule\n",
    "f= MyModule.MyType(1)\n",
    "@show f\n",
    "end"
   ]
  },
  {
   "cell_type": "code",
   "execution_count": null,
   "metadata": {},
   "outputs": [],
   "source": [
    "workspace()\n"
   ]
  },
  {
   "cell_type": "code",
   "execution_count": null,
   "metadata": {},
   "outputs": [],
   "source": [
    "using GeometryTypes    \n",
    "    Pt2D{T}  = Point{2, Float64}\n",
    "Line2D{T} = LineSegment{Pt2D}"
   ]
  }
 ],
 "metadata": {
  "kernelspec": {
   "display_name": "Julia 0.6.1",
   "language": "julia",
   "name": "julia-0.6"
  },
  "language_info": {
   "file_extension": ".jl",
   "mimetype": "application/julia",
   "name": "julia",
   "version": "0.6.1"
  }
 },
 "nbformat": 4,
 "nbformat_minor": 2
}

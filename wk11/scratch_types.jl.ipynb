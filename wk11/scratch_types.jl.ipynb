{
 "cells": [
  {
   "cell_type": "code",
   "execution_count": 52,
   "metadata": {},
   "outputs": [],
   "source": [
    "using GeometryTypes    \n",
    "\n",
    "mutable struct Node\n",
    "        id::Int64\n",
    "        parentID::Int64\n",
    "        state::Point{2, Float64}\n",
    "        cost::Float64\n",
    "        Node(id::Int64, state::Point{2, Float64}) = new(id, -9999999, state, -9999999) #todo do this with outer constructors?\n",
    "        Node(id::Int64, parentID::Int64, state::Point{2, Float64}) = new(id, parentID, state, -9999999)\n",
    "        Node(id::Int64, parentID::Int64, state::Point{2, Float64}, cost::Float64) = new()\n",
    "end"
   ]
  },
  {
   "cell_type": "code",
   "execution_count": 3,
   "metadata": {},
   "outputs": [],
   "source": [
    "struct LSD\n",
    "   pounds::Int \n",
    "   shillings::Int\n",
    "   pence::Int\n",
    "   \n",
    "   function LSD(a, b, c)\n",
    "    if a < 0 || b < 0 \n",
    "      error(\"no negative numbers\")\n",
    "    end\n",
    "    if c > 12 || b > 20\n",
    "      error(\"too many pence or shillings\")\n",
    "    end\n",
    "    new(a, b, c) \n",
    "   end   \n",
    "end"
   ]
  },
  {
   "cell_type": "code",
   "execution_count": 55,
   "metadata": {},
   "outputs": [
    {
     "data": {
      "text/plain": [
       "Node(3, 140482257436696, [6.94072e-310, 0.0], 0.0)"
      ]
     },
     "execution_count": 55,
     "metadata": {},
     "output_type": "execute_result"
    }
   ],
   "source": [
    "Node(1, 3, Point(2.,3.), 34.)"
   ]
  },
  {
   "cell_type": "raw",
   "metadata": {},
   "source": [
    " Pt2D{T}  = Point{2, Float64}\n",
    "Pt2D(2., 3.)"
   ]
  },
  {
   "cell_type": "code",
   "execution_count": 102,
   "metadata": {},
   "outputs": [
    {
     "data": {
      "text/plain": [
       "2"
      ]
     },
     "execution_count": 102,
     "metadata": {},
     "output_type": "execute_result"
    }
   ],
   "source": [
    "x = [1 3 4 2 10]\n",
    "\n",
    "findfirst(x) do y\n",
    " z = y+2\n",
    " z > 3\n",
    "end\n",
    "\n",
    "findfirst(y -> y>2, x)"
   ]
  },
  {
   "cell_type": "code",
   "execution_count": 97,
   "metadata": {},
   "outputs": [
    {
     "ename": "LoadError",
     "evalue": "\u001b[91mTypeError: non-boolean (Int64) used in boolean context\u001b[39m",
     "output_type": "error",
     "traceback": [
      "\u001b[91mTypeError: non-boolean (Int64) used in boolean context\u001b[39m",
      "",
      "Stacktrace:",
      " [1] \u001b[1mfindnext\u001b[22m\u001b[22m\u001b[1m(\u001b[22m\u001b[22m::##55#56, ::StaticArrays.SArray{Tuple{2,3},Int64,2,6}, ::Int64\u001b[1m)\u001b[22m\u001b[22m at \u001b[1m./array.jl:1311\u001b[22m\u001b[22m",
      " [2] \u001b[1mfindfirst\u001b[22m\u001b[22m\u001b[1m(\u001b[22m\u001b[22m::Function, ::StaticArrays.SArray{Tuple{2,3},Int64,2,6}\u001b[1m)\u001b[22m\u001b[22m at \u001b[1m./array.jl:1338\u001b[22m\u001b[22m",
      " [3] \u001b[1minclude_string\u001b[22m\u001b[22m\u001b[1m(\u001b[22m\u001b[22m::String, ::String\u001b[1m)\u001b[22m\u001b[22m at \u001b[1m./loading.jl:522\u001b[22m\u001b[22m"
     ]
    }
   ],
   "source": [
    "a = Point(2,3)\n",
    "b= Point(3,4)\n",
    "c= Point(5,10)\n",
    "alist = [a b c]\n",
    "\n",
    "foo =3 \n",
    "\n",
    "findfirst(alist) do pt\n",
    "    a = pt[1]\n",
    "    a == foo\n",
    "end\n",
    "\n"
   ]
  }
 ],
 "metadata": {
  "kernelspec": {
   "display_name": "Julia 0.6.1",
   "language": "julia",
   "name": "julia-0.6"
  },
  "language_info": {
   "file_extension": ".jl",
   "mimetype": "application/julia",
   "name": "julia",
   "version": "0.6.1"
  }
 },
 "nbformat": 4,
 "nbformat_minor": 2
}
